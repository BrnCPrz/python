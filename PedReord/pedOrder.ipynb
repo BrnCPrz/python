{
 "cells": [
  {
   "cell_type": "markdown",
   "metadata": {},
   "source": [
    "# Reordering a pedigree by *Kahn's* algorithm\n",
    " This script is an adaptation of the reord/renum function in __PedWorks.py__ ([more](https://github.com/BrnCPrz/PedWorks)) program. It has the objective of presenting a new method to reorder a pedigree using a network theory framework. The Kahn's algorithm (Kahn, 1962) for network topological sorting performs a linear ordering of its vertices such that for every edge [x,y] connecting vertices x and y, x will come before y in the final ordering. When applied to genealogical structured data (or simply pedigrees!), edge connections [x,y] may be interpreted as the parent-child relationship, where the parent is represented by x and progeny by y. This brings the perception that when applying the algorithm, x (parents) will always come before their progeny (y) in the final ordering.\n",
    " \n",
    "#### References:\n",
    "Kahn, Arthur B. (1962), \"Topological sorting of large networks\", Communications of the ACM 5 (11): 558–562, doi:10.1145/368996.369025"
   ]
  },
  {
   "cell_type": "code",
   "execution_count": 4,
   "metadata": {
    "collapsed": true
   },
   "outputs": [],
   "source": [
    "import networkx as nx\n",
    "import numpy as np\n",
    "from collections import deque\n",
    "import pandas as pd"
   ]
  },
  {
   "cell_type": "code",
   "execution_count": 5,
   "metadata": {
    "collapsed": false
   },
   "outputs": [
    {
     "name": "stdout",
     "output_type": "stream",
     "text": [
      "   id sire dam\n",
      "0   A    0   0\n",
      "1   B    0   0\n",
      "2   C    0   0\n",
      "3   D    0   0\n",
      "4   E    A   B\n",
      "5   F    A   H\n",
      "6   G    C   D\n",
      "7   H    A   D\n",
      "8   I    G   B\n",
      "9   J    G   E\n",
      "10  K    A   H\n"
     ]
    }
   ],
   "source": [
    "# input and visualize pedigree\n",
    "# missing parentes must be coded \"0\" (zero)\n",
    "# animal ids may be numerical or alphanumerical\n",
    "pedigree = pd.read_table(\"ped_test.in\", header=None, sep= \" \")\n",
    "pedigree.columns = [\"id\", \"sire\", \"dam\"]\n",
    "print pedigree"
   ]
  },
  {
   "cell_type": "code",
   "execution_count": 6,
   "metadata": {
    "collapsed": true
   },
   "outputs": [],
   "source": [
    "# define function to get columns names from a file\n",
    "def getColumns(inFile, delim=\"\\t\", header=True):\n",
    "    '''\n",
    "        Get columns of data from inFile. The order of the rows is respected\n",
    "\n",
    "        :param inFile: column file separated by delim\n",
    "        :param header: if True the first line will be considered a header line\n",
    "        :returns: a tuple of 2 dicts (cols, indexToName). cols dict has keys that\n",
    "        are headings in the inFile, and values are a list of all the entries in that\n",
    "        column. indexToName dict maps column index to names that are used as keys in\n",
    "        the cols dict. The names are the same as the headings used in inFile. If\n",
    "        header is False, then column indices (starting from 0) are used for the\n",
    "        heading names (i.e. the keys in the cols dict)\n",
    "        '''\n",
    "    cols = {}\n",
    "    indexToName = {}\n",
    "    for lineNum, line in enumerate(inFile):\n",
    "        if lineNum == 0:\n",
    "            headings = line.split(delim)\n",
    "            i = 0\n",
    "            for heading in headings:\n",
    "                heading = heading.strip()\n",
    "                if header:\n",
    "                    cols[heading] = []\n",
    "                    indexToName[i] = heading\n",
    "                else:\n",
    "                    # in this case the heading is actually just a cell\n",
    "                    cols[i] = [heading]\n",
    "                    indexToName[i] = i\n",
    "                i += 1\n",
    "        else:\n",
    "            cells = line.split(delim)\n",
    "            i = 0\n",
    "            for cell in cells:\n",
    "                cell = cell.strip()\n",
    "                cols[indexToName[i]] += [cell]\n",
    "                i += 1\n",
    "    return cols, indexToName"
   ]
  },
  {
   "cell_type": "code",
   "execution_count": 7,
   "metadata": {
    "collapsed": true
   },
   "outputs": [],
   "source": [
    "# define a function that receives a pedigree file and translate it into a  network\n",
    "# uses NetworkX package\n",
    "def input_diGraph(inFile, animal=0, sire=1, dam=2, rm=True):\n",
    "    '''\n",
    "        inFile - pedigree as .txt file.\n",
    "        animal - column for the animal ID\n",
    "        sire - column for the sire ID\n",
    "        dam - column for the dam ID\n",
    "        rm - True for removing node = \"0\"\n",
    "\n",
    "        > \"rm\" argument eliminates \"0\" (missing) individuals from graph\n",
    "        > if not removed, network topological organization will be impaired\n",
    "\n",
    "        Output:\n",
    "            pedForGraph: list of tuples - (animal1/animal2, parent)\n",
    "            PedGraph: networkX graph\n",
    "    '''\n",
    "    ped_file = open(inFile, \"r\")\n",
    "    cols, indexToName = getColumns(ped_file, delim=' ', header=False)\n",
    "    ped_file.close()\n",
    "    # separate animal / sire / dam in lists\n",
    "    animal_in = cols[animal]\n",
    "    sire_in = cols[sire]\n",
    "    dam_in = cols[dam]\n",
    "\n",
    "    # creates anim_parent(1/2) tuples\n",
    "    anim_parent1 = zip(sire_in, animal_in)\n",
    "    anim_parent2 = zip(dam_in, animal_in)\n",
    "\n",
    "    # create single object containing all parent_child relationship\n",
    "    pedForGraph = anim_parent1 + anim_parent2\n",
    "\n",
    "    PedGraph = nx.DiGraph(pedForGraph)\n",
    "    if rm == True:\n",
    "        PedGraph.remove_node(\"0\")\n",
    "        return PedGraph\n",
    "\n",
    "    else:\n",
    "        return PedGraph\n"
   ]
  },
  {
   "cell_type": "code",
   "execution_count": 24,
   "metadata": {
    "collapsed": true
   },
   "outputs": [],
   "source": [
    "# A function to apply Kahn's Algorithm to sort a NetworkX (di)graph object\n",
    "def ped_sort(file):\n",
    "    \"\"\"\n",
    "    - Reorders a pedigree (dict object) using Kahn's Algorithm.\n",
    "    \n",
    "    \"\"\"\n",
    "    pedgraph = input_diGraph(inFile=file)\n",
    "    print \"\\n\\tApplying Kahn's Algorithm... \"\n",
    "    in_degree = {u: 0 for u in pedgraph}  # determine in-degree\n",
    "    for u in pedgraph:  # of each node\n",
    "        for v in pedgraph[u]:\n",
    "            in_degree[v] += 1\n",
    "\n",
    "    Q = deque()  # collect nodes with zero in-degree\n",
    "    for u in in_degree:\n",
    "        if in_degree[u] == 0:\n",
    "            Q.appendleft(u)\n",
    "    \n",
    "    order_list = []  # list for order of nodes\n",
    "\n",
    "    while Q:\n",
    "        u = Q.pop()  # choose node of zero in-degree\n",
    "        order_list.append(u)  # and 'remove' it from graph\n",
    "        for v in pedgraph[u]:\n",
    "            in_degree[v] -= 1\n",
    "            if in_degree[v] == 0:\n",
    "                Q.appendleft(v) \n",
    "                \n",
    "    if len(order_list) == len(pedgraph):\n",
    "        return order_list\n",
    "    else:  # if there is a cycle,\n",
    "        print \"Error: At least one cycle detected!\\n\"\n",
    "        return []  # return an empty list"
   ]
  },
  {
   "cell_type": "code",
   "execution_count": 25,
   "metadata": {
    "collapsed": false
   },
   "outputs": [
    {
     "name": "stdout",
     "output_type": "stream",
     "text": [
      "\n",
      "\tApplying Kahn's Algorithm... \n",
      "in_degree =  {'A': 0, 'C': 0, 'B': 0, 'E': 2, 'D': 0, 'G': 2, 'F': 2, 'I': 2, 'H': 2, 'K': 2, 'J': 2}\n",
      "Q before order_list =  deque(['D', 'B', 'C', 'A'])\n",
      "Q after while =  deque([])\n",
      "order list =  ['A', 'C', 'B', 'D', 'E', 'H', 'G', 'K', 'F', 'I', 'J']\n"
     ]
    },
    {
     "data": {
      "text/plain": [
       "['A', 'C', 'B', 'D', 'E', 'H', 'G', 'K', 'F', 'I', 'J']"
      ]
     },
     "execution_count": 25,
     "metadata": {},
     "output_type": "execute_result"
    }
   ],
   "source": [
    "ped_sort(\"ped_test.in\")"
   ]
  },
  {
   "cell_type": "code",
   "execution_count": null,
   "metadata": {
    "collapsed": true
   },
   "outputs": [],
   "source": []
  }
 ],
 "metadata": {
  "kernelspec": {
   "display_name": "Python 2",
   "language": "python2",
   "name": "python2"
  },
  "language_info": {
   "codemirror_mode": {
    "name": "ipython",
    "version": 2
   },
   "file_extension": ".py",
   "mimetype": "text/x-python",
   "name": "python",
   "nbconvert_exporter": "python",
   "pygments_lexer": "ipython2",
   "version": "2.7.12"
  }
 },
 "nbformat": 4,
 "nbformat_minor": 0
}
